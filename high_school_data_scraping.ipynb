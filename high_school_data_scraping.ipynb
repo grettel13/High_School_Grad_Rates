{
 "cells": [
  {
   "cell_type": "code",
   "execution_count": 270,
   "metadata": {},
   "outputs": [],
   "source": [
    "from bs4 import BeautifulSoup\n",
    "import requests\n",
    "import re\n",
    "import json\n",
    "import time, os"
   ]
  },
  {
   "cell_type": "code",
   "execution_count": 127,
   "metadata": {},
   "outputs": [],
   "source": [
    "def clean_string (string):\n",
    "    return string.replace('\\n', '').strip()\n",
    "\n",
    "def get_teachers_staff(elem):\n",
    "    '''\n",
    "    Input: Takes teachers & staff element and parses out the several descriptions and values\n",
    "    Output: Dictionary with descriptions and values in \"Teachers & staff\" section\n",
    "    '''\n",
    "    elem_desc = elem.find_all(class_ = 'col-xs-6 rating-score-item__label')\n",
    "    desc_list = [clean_string(row.text) for row in elem_desc]\n",
    "    \n",
    "    elem_vals = elem.find_all(class_ = 'rating-score-item__score')\n",
    "    elem_vals = [clean_string(row.text).replace(' ', '') for row in elem_vals]\n",
    "\n",
    "    other_desc = elem.find_all(class_ = 'test-score-container clearfix')\n",
    "    desc_list = desc_list + [clean_string(row.findNext().text) for row in other_desc]\n",
    "    \n",
    "    other_vals = elem.find_all(class_ = 'score')\n",
    "    elem_vals = elem_vals + [row.text.replace('%', '') for row in other_vals]\n",
    "    \n",
    "    return dict(zip(desc_list, elem_vals))\n",
    "\n",
    "def pull_out_json(string):\n",
    "    idx = string.find('>')\n",
    "    idx_end = string.rfind('<')\n",
    "    y = string[idx + 1 : idx_end]\n",
    "    return json.loads(y)\n",
    "\n",
    "def student_demographics(elem):\n",
    "    # student demographics\n",
    "    demographics = elem.find_all('div', class_= 'legend-title')\n",
    "    dem_list = [row.text.replace('%', '') for row in demographics]\n",
    "    dem_list_desc = dem_list[0::2]\n",
    "    dem_list_desc_explicit = [('Pop ' + string) for string in dem_list_desc]\n",
    "    dem_list_vals = dem_list[1::2]\n",
    "\n",
    "    demographics = dict(zip(dem_list_desc_explicit, dem_list_vals))\n",
    "\n",
    "    return demographics\n",
    "\n",
    "def get_college(elem):\n",
    "    #temp = json_dict['College readiness']\n",
    "    college_dict = {}\n",
    "    try:\n",
    "        college_list = elem['data'][0]['data'][0]['values']\n",
    "\n",
    "        for dict_ in college_list:\n",
    "            college_dict[dict_['breakdown']] = dict_['score']\n",
    "    except:\n",
    "        pass\n",
    "        \n",
    "    return college_dict\n",
    "\n",
    "def get_advanced_courses(elem):\n",
    "    courses_dict = {}\n",
    "    courses_list = elem['courses']\n",
    "\n",
    "    for dict_ in courses_list:\n",
    "        courses_dict[dict_['breakdown']] = dict_['score']\n",
    "    \n",
    "    return courses_dict\n",
    "\n",
    "def get_race_ethnicity(temp):\n",
    "    race_dict = {}\n",
    "    scores_dict = {}\n",
    "    temp_dict = {}\n",
    "\n",
    "    for elem in temp:\n",
    "        if elem['data']:\n",
    "            temp_2 = elem['data']\n",
    "            for sub in temp_2:\n",
    "                title = sub['title']\n",
    "                if title != 'Overview':\n",
    "                    temp3 = sub['values']\n",
    "                    for sub2 in temp3:\n",
    "                        try:\n",
    "                            new_title = title + ';' + sub2['breakdown']\n",
    "                            scores_dict[new_title] = sub2['score']\n",
    "                            race_dict.update(scores_dict)\n",
    "                        except:\n",
    "                            pass\n",
    "\n",
    "    return race_dict\n",
    "\n",
    "def get_basic_info(soup):\n",
    "    state = soup.find(class_='school-profile').find('a').text\n",
    "    if soup.find(class_='school-contact__item school-contact__district-name') != None:\n",
    "        district = soup.find(class_='school-contact__item school-contact__district-name').find('a').text\n",
    "    else:\n",
    "        district = ''\n",
    "    school_name = soup.find(class_='school-name').text\n",
    "    address = soup.find(class_='school-contact__item school-contact__address').text\n",
    "    rating = soup.find(class_='gs-rating-with-label__rating').text\n",
    "    grades = soup.find(class_='school-info').find_all('div', class_ = 'label')[-3].findNext().text\n",
    "    students = soup.find(class_='school-info').find_all('div', class_ = 'label')[-2].findNext().text\n",
    "    school_type = soup.find(class_='school-info').find_all('div', class_ = 'label')[-1].findNext().text\n",
    "\n",
    "    headers = ['state', 'district', 'school_name', 'address', 'rating', 'grades', 'students', 'school_type']\n",
    "    school_dict = dict(zip(headers, [state, district, school_name, clean_string(address), clean_string(rating), grades, students, school_type]))\n",
    "\n",
    "    return school_dict\n",
    "\n",
    "def create_section_dict(soup):\n",
    "    section_elem_list = soup.find_all('div', class_= 'profile-section-slot')\n",
    "\n",
    "    json_dict = {}\n",
    "    html_dict = {}\n",
    "\n",
    "    for section in section_elem_list:\n",
    "        if section.find('script'):\n",
    "            sublist = section.find_all('script')\n",
    "            for sub_elem in sublist:\n",
    "                json_elem = pull_out_json(str(sub_elem))\n",
    "                try:\n",
    "                    title = json_elem['title']\n",
    "                    json_dict[title] = json_elem\n",
    "                except:\n",
    "                    pass\n",
    "        elif section.find('a')['name']:\n",
    "            html_dict[section.find('a')['name']] = section\n",
    "\n",
    "    return json_dict, html_dict\n",
    "\n",
    "def pull_json_vals(json_dict):\n",
    "    json_values = {}\n",
    "    temp_dict = {}\n",
    "\n",
    "    for k, v in json_dict.items():\n",
    "        if k == 'College readiness':\n",
    "            temp_dict = get_college(v)\n",
    "        elif k == 'College success':\n",
    "            temp_dict = get_college(v)\n",
    "        elif k == 'Advanced courses':\n",
    "            temp_dict = get_advanced_courses(v)\n",
    "        elif k == 'Race/ethnicity':\n",
    "            temp = json_dict['Race/ethnicity']['data']\n",
    "            temp_dict = get_race_ethnicity(temp)\n",
    "        json_values.update(temp_dict)\n",
    "\n",
    "    return json_values\n",
    "\n",
    "def pull_html_vals(html_dict):\n",
    "    html_values = {}\n",
    "    temp_dict = {}\n",
    "\n",
    "    for k, v in html_dict.items():\n",
    "        if k == 'Students':\n",
    "            temp_dict = student_demographics(v)\n",
    "        elif k == 'Teachers_staff':\n",
    "            temp_dict = get_teachers_staff(v)\n",
    "        html_values.update(temp_dict)\n",
    "\n",
    "    return html_values"
   ]
  },
  {
   "cell_type": "code",
   "execution_count": 1,
   "metadata": {},
   "outputs": [],
   "source": [
    "import pickle\n",
    "\n",
    "picklefile_name = 'all_states_highschool_names.pkl'\n",
    "with open(picklefile_name, 'rb') as picklefile: \n",
    "    allsates_urls_dict = pickle.load(picklefile)"
   ]
  },
  {
   "cell_type": "code",
   "execution_count": 2,
   "metadata": {},
   "outputs": [
    {
     "output_type": "execute_result",
     "data": {
      "text/plain": [
       "dict_keys(['alabama', 'washington-dc', 'alaska', 'arizona', 'arkansas', 'california', 'colorado', 'connecticut', 'delaware', 'georgia', 'hawaii', 'idaho', 'illinois', 'indiana', 'iowa', 'kansas', 'kentucky', 'louisiana', 'maine', 'maryland', 'massachusetts', 'michigan', 'minnesota', 'mississippi', 'missouri', 'montana', 'nebraska', 'nevada', 'new-hampshire', 'new-jersey', 'new-mexico', 'new-york/new-york', 'north-carolina', 'north-dakota', 'ohio', 'oklahoma', 'oregon', 'pennsylvania', 'rhode-island', 'south-carolina', 'south-dakota', 'tennessee', 'texas', 'utah', 'vermont', 'virginia', 'washington', 'west-virginia', 'wisconsin', 'wyoming', 'florida'])"
      ]
     },
     "metadata": {},
     "execution_count": 2
    }
   ],
   "source": [
    "allsates_urls_dict.keys()"
   ]
  },
  {
   "cell_type": "code",
   "execution_count": 379,
   "metadata": {},
   "outputs": [
    {
     "output_type": "stream",
     "name": "stdout",
     "text": [
      "0\n"
     ]
    },
    {
     "output_type": "execute_result",
     "data": {
      "text/plain": [
       "0"
      ]
     },
     "metadata": {},
     "execution_count": 379
    }
   ],
   "source": [
    "school_list = []\n",
    "print(len(school_list))\n",
    "\n",
    "page_errors = []\n",
    "len(page_errors)"
   ]
  },
  {
   "cell_type": "code",
   "execution_count": 380,
   "metadata": {},
   "outputs": [
    {
     "output_type": "execute_result",
     "data": {
      "text/plain": [
       "24154"
      ]
     },
     "metadata": {},
     "execution_count": 380
    }
   ],
   "source": [
    "state_list = ['maine', 'maryland', 'massachusetts', 'michigan', 'minnesota', 'mississippi', 'missouri', 'montana', 'nebraska', 'nevada', 'new-hampshire', 'new-jersey', 'new-mexico', 'new-york/new-york', 'north-carolina', 'north-dakota', 'ohio', 'oklahoma', 'oregon', 'pennsylvania', 'rhode-island', 'south-carolina', 'south-dakota', 'tennessee', 'texas', 'utah', 'vermont', 'virginia', 'washington', 'west-virginia', 'wisconsin', 'wyoming']\n",
    "\n",
    "agg = 0\n",
    "for state in state_list:\n",
    "    #print(len(allsates_urls_dict[state].keys()))\n",
    "    agg += len(allsates_urls_dict[state].keys())\n",
    "agg"
   ]
  },
  {
   "cell_type": "code",
   "execution_count": 381,
   "metadata": {},
   "outputs": [],
   "source": [
    "#current_state_arr = np.array(list(allsates_urls_dict[state_1].keys()) + list(allsates_urls_dict[state_2].keys()))\n",
    "# current_state_arr = np.array(list(allsates_urls_dict[state_1].keys()) + list(allsates_urls_dict[state_2].keys()) + list(allsates_urls_dict[state_3].keys()) + list(allsates_urls_dict[state_4].keys()) + list(allsates_urls_dict[state_5].keys()))\n",
    "full_list = []\n",
    "\n",
    "for state in state_list:\n",
    "    full_list.extend(list(allsates_urls_dict[state].keys()))\n",
    "current_state_arr = np.array(full_list)\n",
    "\n",
    "del(full_list)"
   ]
  },
  {
   "cell_type": "code",
   "execution_count": 382,
   "metadata": {},
   "outputs": [
    {
     "output_type": "execute_result",
     "data": {
      "text/plain": [
       "24154"
      ]
     },
     "metadata": {},
     "execution_count": 382
    }
   ],
   "source": [
    "len(current_state_arr)"
   ]
  },
  {
   "cell_type": "code",
   "execution_count": 79,
   "metadata": {},
   "outputs": [],
   "source": [
    "# test_dict = {}\n",
    "\n",
    "# test_dict['/florida/lake-worth/10002-Trinity-Christian-Academy/'] = 1"
   ]
  },
  {
   "cell_type": "code",
   "execution_count": 297,
   "metadata": {},
   "outputs": [],
   "source": [
    "\n",
    "url = \"https://www.greatschools.org{}\"\n",
    "\n",
    "for school in filtered_array:\n",
    "    final_url = url.format(school)\n",
    "    response = requests.get(final_url)\n",
    "    if response.status_code == 200:\n",
    "        page = response.text\n",
    "        soup = BeautifulSoup(page)\n",
    "\n",
    "        school_dict = get_basic_info(soup)\n",
    "\n",
    "        if school_dict['students'] != '0':\n",
    "            json_dict, html_dict = create_section_dict(soup)\n",
    "            json_values = pull_json_vals(json_dict)\n",
    "            html_values = pull_html_vals(html_dict)\n",
    "\n",
    "            school_dict.update(json_values)\n",
    "            school_dict.update(html_values)\n",
    "    else:\n",
    "        page_errors.append(final_url)\n",
    "\n",
    "        school_list.append(school_dict)"
   ]
  },
  {
   "cell_type": "code",
   "execution_count": 401,
   "metadata": {},
   "outputs": [
    {
     "output_type": "stream",
     "name": "stdout",
     "text": [
      "sleeping: Sun Jan 17 08:16:35 2021\n",
      "999: Sun Jan 17 08:24:05 2021\n",
      "sleeping: Sun Jan 17 08:34:46 2021\n",
      "1999: Sun Jan 17 08:42:16 2021\n",
      "sleeping: Sun Jan 17 08:53:31 2021\n",
      "2999: Sun Jan 17 09:01:01 2021\n",
      "sleeping: Sun Jan 17 09:12:11 2021\n",
      "3999: Sun Jan 17 09:19:41 2021\n",
      "sleeping: Sun Jan 17 09:31:39 2021\n",
      "4999: Sun Jan 17 09:39:09 2021\n",
      "sleeping: Sun Jan 17 09:50:23 2021\n",
      "5999: Sun Jan 17 09:57:53 2021\n",
      "sleeping: Sun Jan 17 10:11:02 2021\n",
      "6999: Sun Jan 17 10:18:32 2021\n",
      "sleeping: Sun Jan 17 10:30:19 2021\n",
      "7999: Sun Jan 17 10:37:49 2021\n",
      "sleeping: Sun Jan 17 10:50:54 2021\n",
      "8999: Sun Jan 17 10:58:24 2021\n",
      "sleeping: Sun Jan 17 11:10:22 2021\n",
      "9999: Sun Jan 17 11:17:52 2021\n",
      "sleeping: Sun Jan 17 11:30:11 2021\n",
      "10999: Sun Jan 17 11:37:41 2021\n",
      "sleeping: Sun Jan 17 11:46:31 2021\n",
      "11999: Sun Jan 17 11:54:01 2021\n",
      "sleeping: Sun Jan 17 12:04:51 2021\n",
      "12999: Sun Jan 17 12:12:21 2021\n",
      "sleeping: Sun Jan 17 12:23:39 2021\n",
      "13999: Sun Jan 17 12:31:09 2021\n",
      "sleeping: Sun Jan 17 12:46:48 2021\n",
      "14999: Sun Jan 17 12:54:18 2021\n",
      "sleeping: Sun Jan 17 13:08:46 2021\n",
      "15999: Sun Jan 17 13:16:16 2021\n",
      "sleeping: Sun Jan 17 13:26:17 2021\n",
      "16999: Sun Jan 17 13:33:47 2021\n",
      "sleeping: Sun Jan 17 13:45:21 2021\n",
      "17999: Sun Jan 17 13:52:51 2021\n",
      "sleeping: Sun Jan 17 14:04:13 2021\n",
      "18999: Sun Jan 17 14:11:43 2021\n",
      "sleeping: Sun Jan 17 14:22:43 2021\n",
      "19999: Sun Jan 17 14:30:13 2021\n",
      "sleeping: Sun Jan 17 14:41:35 2021\n",
      "20999: Sun Jan 17 14:49:05 2021\n"
     ]
    }
   ],
   "source": [
    "url = \"https://www.greatschools.org{}\"\n",
    "\n",
    "for idx, school in enumerate(filtered_array):\n",
    "    final_url = url.format(school)\n",
    "    response = requests.get(final_url)\n",
    "    if response.status_code == 200:\n",
    "        page = response.text\n",
    "        soup = BeautifulSoup(page)\n",
    "\n",
    "        school_dict = get_basic_info(soup)\n",
    "\n",
    "        if school_dict['students'] != '0':\n",
    "            json_dict, html_dict = create_section_dict(soup)\n",
    "            json_values = pull_json_vals(json_dict)\n",
    "            html_values = pull_html_vals(html_dict)\n",
    "\n",
    "            school_dict.update(json_values)\n",
    "            school_dict.update(html_values)\n",
    "\n",
    "        school_list.append(school_dict)\n",
    "    else:\n",
    "        page_errors.append(final_url)\n",
    "\n",
    "    if ((idx + 1) % 1000 == 0):\n",
    "        print(f'sleeping: {time.ctime()}')\n",
    "        time.sleep(450)\n",
    "        print(f'{idx}: {time.ctime()}')"
   ]
  },
  {
   "cell_type": "code",
   "execution_count": 402,
   "metadata": {},
   "outputs": [
    {
     "output_type": "execute_result",
     "data": {
      "text/plain": [
       "26154"
      ]
     },
     "metadata": {},
     "execution_count": 402
    }
   ],
   "source": [
    "len(school_list)"
   ]
  },
  {
   "cell_type": "code",
   "execution_count": 408,
   "metadata": {},
   "outputs": [],
   "source": [
    "rest_list = school_list.copy()"
   ]
  },
  {
   "cell_type": "code",
   "execution_count": 409,
   "metadata": {},
   "outputs": [
    {
     "output_type": "execute_result",
     "data": {
      "text/plain": [
       "26154"
      ]
     },
     "metadata": {},
     "execution_count": 409
    }
   ],
   "source": [
    "len(rest_list)"
   ]
  },
  {
   "cell_type": "code",
   "execution_count": 284,
   "metadata": {},
   "outputs": [],
   "source": [
    "import random\n",
    "\n",
    "time.sleep(.5+2*random.random())"
   ]
  },
  {
   "cell_type": "code",
   "execution_count": null,
   "metadata": {},
   "outputs": [],
   "source": []
  },
  {
   "cell_type": "code",
   "execution_count": 315,
   "metadata": {},
   "outputs": [
    {
     "output_type": "execute_result",
     "data": {
      "text/plain": [
       "'https://www.greatschools.org/kentucky/mount-sterling/1917-Hillcrest-Hall-Treatment-Center/'"
      ]
     },
     "metadata": {},
     "execution_count": 315
    }
   ],
   "source": [
    "final_url"
   ]
  },
  {
   "cell_type": "code",
   "execution_count": 376,
   "metadata": {},
   "outputs": [],
   "source": [
    "# print(json_dict.keys())\n",
    "# print(html_dict.keys())"
   ]
  },
  {
   "cell_type": "code",
   "execution_count": 3,
   "metadata": {},
   "outputs": [
    {
     "output_type": "execute_result",
     "data": {
      "text/plain": [
       "['/north-dakota/blaisdell/123-Berthold-High-School/',\n",
       " '/north-dakota/drayton/161-Drayton-High-School/',\n",
       " '/north-dakota/glen-ullin/224-Glen-Ullin-High-School/',\n",
       " '/north-dakota/hatton/264-Hatton-High-School/',\n",
       " '/north-dakota/hettinger/270-Hettinger-High-School/',\n",
       " '/north-dakota/hillsboro/272-Hillsboro-High-School/',\n",
       " '/north-dakota/kulm/284-Kulm-High-School/',\n",
       " '/north-dakota/tower-city/321-Maple-Valley-High-School/',\n",
       " '/north-dakota/washburn/516-Washburn-High-School/',\n",
       " '/north-dakota/kindred/57-Kindred-High-School/',\n",
       " '/north-dakota/drake/62-Drake-High-School/',\n",
       " '/north-dakota/towner/678-Tgu-Towner-High-School/',\n",
       " '/north-dakota/glenfield/93-Midkota-High-School/',\n",
       " '/north-dakota/park-river/1325-Park-River-High-School/',\n",
       " '/north-dakota/buxton/148-Central-Valley-High-School/',\n",
       " '/north-dakota/edgeley/167-Edgeley-High-School/',\n",
       " '/north-dakota/flasher/215-Flasher-High-School/',\n",
       " '/north-dakota/lidgerwood/300-Lidgerwood-High-School/',\n",
       " '/north-dakota/maddock/307-Maddock-High-School/',\n",
       " '/north-dakota/thompson/488-Thompson-High-School/',\n",
       " '/north-dakota/valley-city/502-Valley-City-High-School/',\n",
       " '/north-dakota/scranton/52-Scranton-High-School/',\n",
       " '/north-dakota/hazelton/667-Hazelton-Moffit-Braddock-High-School/',\n",
       " '/north-dakota/pembina/724-North-Border-Pembina-High-School/',\n",
       " '/north-dakota/elgin/100-Elgin-New-Leipzig-High-School/',\n",
       " '/north-dakota/new-rockford/1087-New-Rockford-Sheyenne-High-School/',\n",
       " '/north-dakota/steele/1103-Steele-Dawson-High-School/',\n",
       " '/north-dakota/enderlin/183-Enderlin-Area-High-School/',\n",
       " '/north-dakota/wilton/371-Wilton-High-School/',\n",
       " '/north-dakota/mohall/40-Mls-Mohall-High-School/',\n",
       " '/north-dakota/south-heart/461-South-Heart-High-School/',\n",
       " '/north-dakota/saint-john/467-Saint-John-High-School/',\n",
       " '/north-dakota/wyndmere/552-Wyndmere-High-School/',\n",
       " '/north-dakota/hunter/665-Northern-Cass-High-School/',\n",
       " '/north-dakota/casselton/146-Central-Cass-High-School/',\n",
       " '/north-dakota/garrison/222-Garrison-High-School/',\n",
       " '/north-dakota/stanley/471-Stanley-High-School/',\n",
       " '/north-dakota/surrey/480-Surrey-High-School/',\n",
       " '/north-dakota/underwood/494-Underwood-High-School/',\n",
       " '/north-dakota/des-lacs/496-Des-Lacs-Burlington-High-School/',\n",
       " '/north-dakota/mott/673-Mott-Regent-High-School/',\n",
       " '/north-dakota/richardton/680-Richardton-Taylor-High-School/',\n",
       " '/north-dakota/carrington/719-Carrington-High-School/',\n",
       " '/north-dakota/mayville/91-May-Port-Cg-High-School/',\n",
       " '/north-dakota/ashley/112-Ashley-High-School/',\n",
       " '/north-dakota/minot/1345-South-Prairie-High-School/',\n",
       " '/north-dakota/devils-lake/152-Devils-Lake-High-School/',\n",
       " '/north-dakota/crosby/158-Divide-County-High-School/',\n",
       " '/north-dakota/ellendale/176-Ellendale-High-School/',\n",
       " '/north-dakota/fargo/203-North-High-School/',\n",
       " '/north-dakota/milnor/344-Milnor-High-School/',\n",
       " '/north-dakota/rolla/377-Mt-Pleasant-High-School/',\n",
       " '/north-dakota/napoleon/381-Napoleon-High-School/',\n",
       " '/north-dakota/rugby/443-Rugby-High-School/',\n",
       " '/north-dakota/forman/445-Sargent-Central-High-School/',\n",
       " '/north-dakota/wishek/548-Wishek-High-School/',\n",
       " '/north-dakota/bismarck/7-Century-High-School/',\n",
       " '/north-dakota/bowman/136-Bowman-Co-High-School/',\n",
       " '/north-dakota/west-fargo/1095-Sheyenne-9th-Grade-Center/',\n",
       " '/north-dakota/edinburg/1129-Valley-Edinburg-High-School/',\n",
       " '/north-dakota/bismarck/1339-Legacy-High-School/',\n",
       " '/north-dakota/glenburn/226-Glenburn-High-School/',\n",
       " '/north-dakota/grand-forks/237-Central-High-School/',\n",
       " '/north-dakota/grand-forks/242-Red-River-High-School/',\n",
       " '/north-dakota/kenmare/277-Kenmare-High-School/',\n",
       " '/north-dakota/max/328-Max-High-School/',\n",
       " '/north-dakota/oakes/411-Oakes-High-School/',\n",
       " '/north-dakota/pingree/425-Pingree-Buchanan-High-School/',\n",
       " '/north-dakota/jamestown/43-Jamestown-High-School/',\n",
       " '/north-dakota/wahpeton/508-Wahpeton-High-School/',\n",
       " '/north-dakota/hazen/65-Hazen-High-School/',\n",
       " '/north-dakota/colfax/73-Richland-Junior-Senior-High-School/',\n",
       " '/north-dakota/wimbledon/1097-Barnes-Co-N-Wimbledon-Courtenay-High-School/',\n",
       " '/north-dakota/fargo/1146-Fargo-Davies-High-School/',\n",
       " '/north-dakota/harvey/262-Harvey-High-School/',\n",
       " '/north-dakota/killdeer/282-Killdeer-High-School/',\n",
       " '/north-dakota/lakota/286-Lakota-High-School/',\n",
       " '/north-dakota/lamoure/288-Lamoure-High-School/',\n",
       " '/north-dakota/larimore/296-Larimore-High-School/',\n",
       " '/north-dakota/leeds/298-Leeds-High-School/',\n",
       " '/north-dakota/lisbon/302-Lisbon-High-School/',\n",
       " '/north-dakota/mandan/312-Mandan-High-School/',\n",
       " '/north-dakota/cavalier/34-Cavalier-High-School/',\n",
       " '/north-dakota/minot/359-Magic-City-Campus-High-School/',\n",
       " '/north-dakota/new-town/395-New-Town-High-School/',\n",
       " '/north-dakota/plaza/407-North-Shore-High-School/',\n",
       " '/north-dakota/northwood/409-Northwood-High-School/',\n",
       " '/north-dakota/velva/459-Velva-High-School/',\n",
       " '/north-dakota/bismarck/6-Bismarck-High-School/',\n",
       " '/north-dakota/beulah/67-Beulah-High-School/',\n",
       " '/north-dakota/dickinson/77-Dickinson-High-School/',\n",
       " '/north-dakota/new-salem/1123-New-Salem-Almont-High-School/',\n",
       " '/north-dakota/beach/115-Beach-High-School/',\n",
       " '/north-dakota/bottineau/130-Bottineau-Junior-Senior-High-School/',\n",
       " '/north-dakota/cooperstown/150-Griggs-County-Central-High-School/',\n",
       " '/north-dakota/hankinson/260-Hankinson-High-School/',\n",
       " '/north-dakota/linton/33-Linton-High-School/',\n",
       " '/north-dakota/inkster/339-Midway-High-School/',\n",
       " '/north-dakota/minto/369-Minto-High-School/',\n",
       " '/north-dakota/munich/379-Munich-High-School/',\n",
       " '/north-dakota/ray/385-Ray-High-School/',\n",
       " '/north-dakota/gwinner/405-North-Sargent-High-School/',\n",
       " '/north-dakota/rolette/439-Rolette-High-School/',\n",
       " '/north-dakota/west-fargo/525-West-Fargo-High-School/',\n",
       " '/north-dakota/new-england/60-New-England-High-School/',\n",
       " '/north-dakota/granville/676-Tgu-Granville-High-School/',\n",
       " '/north-dakota/alexander/107-Alexander-High-School/',\n",
       " '/north-dakota/minot/1344-Nedrose-High-School/',\n",
       " '/north-dakota/belfield/179-Belfield-High-School/',\n",
       " '/north-dakota/fargo/205-South-High-School/',\n",
       " '/north-dakota/langdon/292-Langdon-Area-High-School/',\n",
       " '/north-dakota/medina/337-Medina-High-School/',\n",
       " '/north-dakota/minnewaukan/348-Minnewaukan-High-School/',\n",
       " '/north-dakota/turtle-lake/490-Turtle-Lake-Mercer-High-School/',\n",
       " '/north-dakota/hope/671-Hope-High-School/',\n",
       " '/north-dakota/center/709-Center-Stanton-High-School/',\n",
       " '/north-dakota/tioga/85-Tioga-High-School/',\n",
       " '/north-dakota/petersburg/88-Dakota-Prairie-High-School/',\n",
       " '/north-dakota/lignite/138-Burke-Central-High-School/',\n",
       " '/north-dakota/cando/1109-North-Star-High-School/',\n",
       " '/north-dakota/belcourt/119-Turtle-Mount-Community-High-School/',\n",
       " '/north-dakota/dunseith/165-Dunseith-High-School/',\n",
       " '/north-dakota/williston/174-Eight-Mile-High-School/',\n",
       " '/north-dakota/oberon/218-Four-Winds-Community-High-School/',\n",
       " '/north-dakota/grafton/231-Grafton-High-School/',\n",
       " '/north-dakota/mandaree/316-Mandaree-High-School/',\n",
       " '/north-dakota/watford-city/335-Watford-City-High-School/',\n",
       " '/north-dakota/parshall/421-Parshall-High-School/',\n",
       " '/north-dakota/solen/457-Solen-High-School/',\n",
       " '/north-dakota/warwick/514-Warwick-High-School/',\n",
       " '/north-dakota/roseglen/531-White-Shield-High-School/',\n",
       " '/north-dakota/williston/538-Williston-High-School/',\n",
       " '/north-dakota/walhalla/726-North-Border-Walhalla-High-School/',\n",
       " '/north-dakota/grand-forks/1-School-For-The-Blind/',\n",
       " '/north-dakota/newburg/103-Newburg-United-High-School/',\n",
       " '/north-dakota/anamoose/109-Anamoose-High-School/',\n",
       " '/north-dakota/mandan/1099-Missouri-River-Area-Career--Tech-Center/',\n",
       " '/north-dakota/tappen/1105-Tappen-High-School/',\n",
       " '/north-dakota/mandaree/1106-Mandaree-Day-School/',\n",
       " '/north-dakota/fort-yates/1111-Standing-Rock-Community-School/',\n",
       " '/north-dakota/belcourt/1116-Turtle-Mountain-High-School/',\n",
       " '/north-dakota/roseglen/1118-White-Shield-School/',\n",
       " '/north-dakota/bismarck/1120-K12-International-Academy/',\n",
       " '/north-dakota/bismarck/1121-The-Keystone-School/',\n",
       " '/north-dakota/rugby/1125-North-Central-Area-Career--Tech-Center/',\n",
       " '/north-dakota/jamestown/1126-Jamestown-Spec-Ed-Unit/',\n",
       " '/north-dakota/mandan/1127-Roughrider-Area-Career--Tech-Center/',\n",
       " '/north-dakota/jamestown/1128-James-River-Spec-Ed-Cooperative/',\n",
       " '/north-dakota/bismarck/1132-Bismarck-Career-Academy/',\n",
       " '/north-dakota/williston/1138-Del-Easton-Alternative-High-School/',\n",
       " '/north-dakota/fordville/1142-Forest-River-School/',\n",
       " '/north-dakota/bowbells/133-Bowbells-High-School/',\n",
       " '/north-dakota/mandan/1335-Brave-Center-Academy/',\n",
       " '/north-dakota/grand-forks/1336-Grand-Forks-Area-Career--Tech-Center/',\n",
       " '/north-dakota/williston/1338-Great-Northwest-Area-Career--Tech-Center/',\n",
       " '/north-dakota/edinburg/170-Edinburg-High-School/',\n",
       " '/north-dakota/edmore/172-Edmore-High-School/',\n",
       " '/north-dakota/fairmount/186-Fairmount-High-School/',\n",
       " '/north-dakota/fargo/194-Evaluation-And-Training-Center/',\n",
       " '/north-dakota/fargo/207-Woodrow-Wilson-Alternative-High-School/',\n",
       " '/north-dakota/finley/212-Finley-Sharon-High-School/',\n",
       " '/north-dakota/goodrich/228-Goodrich-High-School/',\n",
       " '/north-dakota/bismarck/24-South-Central-Alternative-High-School/',\n",
       " '/north-dakota/grand-forks/250-Community-Alternative-High-School/',\n",
       " '/north-dakota/grenora/256-Grenora-High-School/',\n",
       " '/north-dakota/halliday/258-Halliday-High-School/',\n",
       " '/north-dakota/hebron/268-Hebron-High-School/',\n",
       " '/north-dakota/strasburg/31-Strasburg-High-School/',\n",
       " '/north-dakota/marion/325-Litchville-Marion-High-School/',\n",
       " '/north-dakota/mcclusky/330-Mcclusky-High-School/',\n",
       " '/north-dakota/minot/349-Souris-River-Campus-Alternative-High-School/',\n",
       " '/north-dakota/minot/351-Central-Campus-School/',\n",
       " '/north-dakota/montpelier/373-Montpelier-High-School/',\n",
       " '/north-dakota/new-salem/393-New-Salem-High-School/',\n",
       " '/north-dakota/devils-lake/4-School-For-The-Deaf-9-12/',\n",
       " '/north-dakota/rock-lake/403-North-Central-High-School/',\n",
       " '/north-dakota/park-river/419-Park-River-High-School/',\n",
       " '/north-dakota/sawyer/448-Sawyer-High-School/',\n",
       " '/north-dakota/selfridge/450-Selfridge-High-School/',\n",
       " '/north-dakota/saint-thomas/469-Saint-Thomas-High-School/',\n",
       " '/north-dakota/starkweather/475-Starkweather-High-School/',\n",
       " '/north-dakota/hoople/500-Valley-High-School/',\n",
       " '/north-dakota/westhope/529-Westhope-High-School/',\n",
       " '/north-dakota/powers-lake/54-Powers-Lake-High-School/',\n",
       " '/north-dakota/wing/546-Wing-High-School/',\n",
       " '/north-dakota/wolford/550-Wolford-High-School/',\n",
       " '/north-dakota/zeeland/554-Zeeland-High-School/',\n",
       " '/north-dakota/dickinson/555-West-River-Student-Services/',\n",
       " '/north-dakota/bismarck/556-Burleigh-County-Spec-Ed-Unit/',\n",
       " '/north-dakota/harvey/557-Lonetree-Spec-Ed-Unit/',\n",
       " '/north-dakota/stanley/558-Northern-Plains-Spec-Ed/',\n",
       " '/north-dakota/cavalier/559-Pembina-Spec-Ed-Cooperative/',\n",
       " '/north-dakota/minot/560-Souris-Valley-Spec-Ed-Unit/',\n",
       " '/north-dakota/mott/561-Southwest-Spec-Ed-Unit/',\n",
       " '/north-dakota/belcourt/562-Turtle-Mt-Spec-Ed-Unit/',\n",
       " '/north-dakota/new-rockford/563-East-Central-Spec-Ed-Unit/',\n",
       " '/north-dakota/devils-lake/564-Lake-Region-Spec-Ed-Unit/',\n",
       " '/north-dakota/hazen/565-Oliver-Mercer-Spec-Ed-Unit/',\n",
       " '/north-dakota/mapleton/566-Rural-Cass-Spec-Ed-Unit/',\n",
       " '/north-dakota/napoleon/567-South-Central-Prairie-Spec-Ed-Unit/',\n",
       " '/north-dakota/west-fargo/568-West-Fargo-Spec-Ed-Unit/',\n",
       " '/north-dakota/williston/569-Wilmac-Spec-Ed-Unit/',\n",
       " '/north-dakota/jamestown/570-Buffalo-Valley-Special-Education-Unit/',\n",
       " '/north-dakota/linton/571-Emmons-County-Spec-Ed-Unit/',\n",
       " '/north-dakota/fargo/572-Fargo-Spec-Ed-Unit/',\n",
       " '/north-dakota/portland/573-Gst-Spec-Ed-Unit/',\n",
       " '/north-dakota/fort-totten/574-Fort-Totten-Spec-Ed-Unit/',\n",
       " '/north-dakota/lamoure/575-Dickey-Lamoure-Special-Education-Unit/',\n",
       " '/north-dakota/dickinson/576-Dickinson-Spec-Ed-Unit/',\n",
       " '/north-dakota/mandan/577-Morton-Sioux-Spec-Ed-Unit/',\n",
       " '/north-dakota/grand-forks/578-Grand-Forks-Spec-Ed-Unit/',\n",
       " '/north-dakota/bottineau/579-Peace-Garden-Sp-Ed-Student-Support-Services/',\n",
       " '/north-dakota/valley-city/580-Sheyenne-Valley-Spec-Ed-Unit/',\n",
       " '/north-dakota/hankinson/581-South-Valley-Spec-Ed-Unit/',\n",
       " '/north-dakota/grafton/582-Upper-Valley-Spec-Ed-Unit/',\n",
       " '/north-dakota/valley-city/583-Sheyenne-Valley-Area-Career--Tech-Center/',\n",
       " '/north-dakota/wahpeton/584-Wahpeton-Spec-Ed-Unit/',\n",
       " '/north-dakota/devils-lake/586-Lake-Area-Career--Tech-Center/',\n",
       " '/north-dakota/wahpeton/587-Southeast-Region-Career--Tech-Center/',\n",
       " '/north-dakota/jamestown/588-James-Valley-Area-Career--Tech-Center/',\n",
       " '/north-dakota/grafton/589-North-Valley-Area-Career--Tech-Center/',\n",
       " '/north-dakota/bismarck/590-Bismarck-Spec-Ed-Unit/',\n",
       " '/north-dakota/bismarck/591-Bismarck-Tech-Center/',\n",
       " '/north-dakota/bismarck/614-St-Mary-Central-High-School/',\n",
       " '/north-dakota/minot/617-Bishop-Ryan-High-School/',\n",
       " '/north-dakota/dickinson/618-Trinity-High-School/',\n",
       " '/north-dakota/jamestown/630-Anne-Carlsen-Center/',\n",
       " '/north-dakota/fargo/632-Oak-Grove-Lutheran-School/',\n",
       " '/north-dakota/bismarck/633-Dakota-Adventist-Academy/',\n",
       " '/north-dakota/watford-city/643-Johnson-Cornors-Christian-Academy/',\n",
       " '/north-dakota/minot/644-Our-Redeemers-Christian-School/',\n",
       " '/north-dakota/bismarck/645-Shiloh-Christian-School/',\n",
       " '/north-dakota/larimore/650-New-Testament-Baptist-Christian-School/',\n",
       " '/north-dakota/williston/651-Williston-Trinity-Christian-School/',\n",
       " '/north-dakota/raleigh/654-Prairie-Learning-Ed-Center/',\n",
       " '/north-dakota/mandan/668-Early-Childhood-Special-Education/',\n",
       " '/north-dakota/fessenden/684-Fessenden-Bowdon-High-School/',\n",
       " '/north-dakota/dickinson/685-Southwest-Community-High-School/',\n",
       " '/north-dakota/lehr/687-Faith-Christian-School/',\n",
       " '/north-dakota/fargo/704-Shanley-High-School---Sullivan-Middle-School/',\n",
       " '/north-dakota/minot/705-Dakota-Memorial-High-School/',\n",
       " '/north-dakota/fordville/721-Fordville-Lankin-High-School/',\n",
       " '/north-dakota/fort-yates/727-Standing-Rock-Spec-Ed-Unit/',\n",
       " '/north-dakota/gackle/95-Gackle-Streeter-High-School/',\n",
       " '/north-dakota/west-fargo/1355-Cass-County-Career-And-Tech-Center/',\n",
       " '/north-dakota/minot/1356-Minot-Spec-Ed-Unit/',\n",
       " '/north-dakota/fargo/1359-Willow-Park-Elementary-School/']"
      ]
     },
     "metadata": {},
     "execution_count": 3
    }
   ],
   "source": [
    "#list(allsates_urls_dict['kentucky']).index('/kentucky/mount-sterling/1917-Hillcrest-Hall-Treatment-Center/')\n",
    "list(allsates_urls_dict['north-dakota'])"
   ]
  },
  {
   "cell_type": "code",
   "execution_count": 392,
   "metadata": {},
   "outputs": [],
   "source": [
    "import numpy as np\n",
    "\n",
    "filtered_list = current_state_arr[3000:]\n",
    "\n",
    "filtered_array = np.array(filtered_list)"
   ]
  },
  {
   "cell_type": "code",
   "execution_count": 393,
   "metadata": {},
   "outputs": [
    {
     "output_type": "execute_result",
     "data": {
      "text/plain": [
       "21154"
      ]
     },
     "metadata": {},
     "execution_count": 393
    }
   ],
   "source": [
    "len(filtered_array)"
   ]
  },
  {
   "cell_type": "code",
   "execution_count": 377,
   "metadata": {},
   "outputs": [],
   "source": [
    "#school_list[838]"
   ]
  },
  {
   "cell_type": "code",
   "execution_count": null,
   "metadata": {},
   "outputs": [],
   "source": [
    "rest_list"
   ]
  },
  {
   "cell_type": "code",
   "execution_count": 419,
   "metadata": {},
   "outputs": [
    {
     "output_type": "execute_result",
     "data": {
      "text/plain": [
       "26154"
      ]
     },
     "metadata": {},
     "execution_count": 419
    }
   ],
   "source": [
    "len(rest_list)"
   ]
  },
  {
   "cell_type": "code",
   "execution_count": 420,
   "metadata": {},
   "outputs": [],
   "source": [
    "indiana_through_wyoming.extend(rest_list)"
   ]
  },
  {
   "cell_type": "code",
   "execution_count": 421,
   "metadata": {},
   "outputs": [
    {
     "output_type": "execute_result",
     "data": {
      "text/plain": [
       "29258"
      ]
     },
     "metadata": {},
     "execution_count": 421
    }
   ],
   "source": [
    "len(indiana_through_wyoming)"
   ]
  },
  {
   "cell_type": "code",
   "execution_count": 356,
   "metadata": {},
   "outputs": [],
   "source": [
    "del(alabama_through_illinois)"
   ]
  },
  {
   "cell_type": "code",
   "execution_count": 422,
   "metadata": {},
   "outputs": [],
   "source": [
    "#alabama - 820\n",
    "#washington dc - 92\n",
    "\n",
    "picklefile_name = 'indiana_through_wyoming.pkl'\n",
    "with open(picklefile_name, 'wb') as picklefile:\n",
    "    pickle.dump(indiana_through_wyoming, picklefile)"
   ]
  },
  {
   "cell_type": "code",
   "execution_count": 378,
   "metadata": {},
   "outputs": [
    {
     "output_type": "execute_result",
     "data": {
      "text/plain": [
       "42657"
      ]
     },
     "metadata": {},
     "execution_count": 378
    }
   ],
   "source": [
    "count = 0\n",
    "\n",
    "for v in allsates_urls_dict.values():\n",
    "    count += len(v)\n",
    "\n",
    "count"
   ]
  },
  {
   "cell_type": "code",
   "execution_count": null,
   "metadata": {},
   "outputs": [],
   "source": []
  }
 ],
 "metadata": {
  "kernelspec": {
   "name": "Python 3.8.5 64-bit",
   "display_name": "Python 3.8.5 64-bit",
   "metadata": {
    "interpreter": {
     "hash": "1ee38ef4a5a9feb55287fd749643f13d043cb0a7addaab2a9c224cbe137c0062"
    }
   }
  }
 },
 "nbformat": 4,
 "nbformat_minor": 4
}